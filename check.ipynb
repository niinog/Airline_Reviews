{
 "cells": [
  {
   "cell_type": "code",
   "execution_count": 1,
   "metadata": {},
   "outputs": [],
   "source": [
    "import pandas as pd"
   ]
  },
  {
   "cell_type": "code",
   "execution_count": 7,
   "metadata": {},
   "outputs": [],
   "source": [
    "df = pd.read_csv(\"all_airlines_clean.csv\")\n",
    "dupes = df[df.duplicated(subset=\"id\", keep=False)]\n"
   ]
  },
  {
   "cell_type": "code",
   "execution_count": 8,
   "metadata": {},
   "outputs": [
    {
     "data": {
      "text/plain": [
       "(1014, 9)"
      ]
     },
     "execution_count": 8,
     "metadata": {},
     "output_type": "execute_result"
    }
   ],
   "source": [
    "dupes.shape"
   ]
  },
  {
   "cell_type": "code",
   "execution_count": 9,
   "metadata": {},
   "outputs": [
    {
     "data": {
      "text/html": [
       "<div>\n",
       "<style scoped>\n",
       "    .dataframe tbody tr th:only-of-type {\n",
       "        vertical-align: middle;\n",
       "    }\n",
       "\n",
       "    .dataframe tbody tr th {\n",
       "        vertical-align: top;\n",
       "    }\n",
       "\n",
       "    .dataframe thead th {\n",
       "        text-align: right;\n",
       "    }\n",
       "</style>\n",
       "<table border=\"1\" class=\"dataframe\">\n",
       "  <thead>\n",
       "    <tr style=\"text-align: right;\">\n",
       "      <th></th>\n",
       "      <th>airline</th>\n",
       "      <th>id</th>\n",
       "      <th>title</th>\n",
       "      <th>text</th>\n",
       "      <th>comments</th>\n",
       "      <th>combined_text</th>\n",
       "      <th>category</th>\n",
       "      <th>score</th>\n",
       "      <th>url</th>\n",
       "    </tr>\n",
       "  </thead>\n",
       "  <tbody>\n",
       "    <tr>\n",
       "      <th>0</th>\n",
       "      <td>Delta</td>\n",
       "      <td>1lc92x2</td>\n",
       "      <td>Thank you, Delta for ruining my Father’s Day.</td>\n",
       "      <td>The flight from San Diego was late into Salt L...</td>\n",
       "      <td>Smart. Because Southwest never does that. || I...</td>\n",
       "      <td>Thank you, Delta for ruining my Father’s Day. ...</td>\n",
       "      <td>Flight Delay</td>\n",
       "      <td>0</td>\n",
       "      <td>https://i.redd.it/o0oz8bgj957f1.jpeg</td>\n",
       "    </tr>\n",
       "    <tr>\n",
       "      <th>1</th>\n",
       "      <td>Delta</td>\n",
       "      <td>1lc92ru</td>\n",
       "      <td>Reassurance needed 😅</td>\n",
       "      <td>Hey! I’m flying internationally for the first ...</td>\n",
       "      <td>NaN</td>\n",
       "      <td>Reassurance needed 😅 Hey! I’m flying internati...</td>\n",
       "      <td>Customer Service</td>\n",
       "      <td>3</td>\n",
       "      <td>https://www.reddit.com/r/fearofflying/comments...</td>\n",
       "    </tr>\n",
       "    <tr>\n",
       "      <th>2</th>\n",
       "      <td>Delta</td>\n",
       "      <td>1lc8b1y</td>\n",
       "      <td>Does Alaska oversell less often than other car...</td>\n",
       "      <td>I love a good horror story about oversold flig...</td>\n",
       "      <td>Purely anecdotal, but I've flown 300k miles on...</td>\n",
       "      <td>Does Alaska oversell less often than other car...</td>\n",
       "      <td>Flight Delay</td>\n",
       "      <td>3</td>\n",
       "      <td>https://www.reddit.com/r/AlaskaAirlines/commen...</td>\n",
       "    </tr>\n",
       "    <tr>\n",
       "      <th>3</th>\n",
       "      <td>Delta</td>\n",
       "      <td>1lc7t55</td>\n",
       "      <td>Better to cancel return leg of roundtrip after...</td>\n",
       "      <td>Hello!\\n\\nI heard the rumors of always buying ...</td>\n",
       "      <td>It’ll still get repriced as a one way, but at ...</td>\n",
       "      <td>Better to cancel return leg of roundtrip after...</td>\n",
       "      <td>Technical/App</td>\n",
       "      <td>0</td>\n",
       "      <td>https://www.reddit.com/r/delta/comments/1lc7t5...</td>\n",
       "    </tr>\n",
       "    <tr>\n",
       "      <th>4</th>\n",
       "      <td>Delta</td>\n",
       "      <td>1lc7t2z</td>\n",
       "      <td>delta painted pottery plane</td>\n",
       "      <td>silly little thing i made at a paint your own ...</td>\n",
       "      <td>NaN</td>\n",
       "      <td>delta painted pottery plane silly little thing...</td>\n",
       "      <td>Technical/App</td>\n",
       "      <td>2</td>\n",
       "      <td>https://v.redd.it/ns92sr8zz47f1</td>\n",
       "    </tr>\n",
       "  </tbody>\n",
       "</table>\n",
       "</div>"
      ],
      "text/plain": [
       "  airline       id                                              title  \\\n",
       "0   Delta  1lc92x2      Thank you, Delta for ruining my Father’s Day.   \n",
       "1   Delta  1lc92ru                               Reassurance needed 😅   \n",
       "2   Delta  1lc8b1y  Does Alaska oversell less often than other car...   \n",
       "3   Delta  1lc7t55  Better to cancel return leg of roundtrip after...   \n",
       "4   Delta  1lc7t2z                        delta painted pottery plane   \n",
       "\n",
       "                                                text  \\\n",
       "0  The flight from San Diego was late into Salt L...   \n",
       "1  Hey! I’m flying internationally for the first ...   \n",
       "2  I love a good horror story about oversold flig...   \n",
       "3  Hello!\\n\\nI heard the rumors of always buying ...   \n",
       "4  silly little thing i made at a paint your own ...   \n",
       "\n",
       "                                            comments  \\\n",
       "0  Smart. Because Southwest never does that. || I...   \n",
       "1                                                NaN   \n",
       "2  Purely anecdotal, but I've flown 300k miles on...   \n",
       "3  It’ll still get repriced as a one way, but at ...   \n",
       "4                                                NaN   \n",
       "\n",
       "                                       combined_text          category  score  \\\n",
       "0  Thank you, Delta for ruining my Father’s Day. ...      Flight Delay      0   \n",
       "1  Reassurance needed 😅 Hey! I’m flying internati...  Customer Service      3   \n",
       "2  Does Alaska oversell less often than other car...      Flight Delay      3   \n",
       "3  Better to cancel return leg of roundtrip after...     Technical/App      0   \n",
       "4  delta painted pottery plane silly little thing...     Technical/App      2   \n",
       "\n",
       "                                                 url  \n",
       "0               https://i.redd.it/o0oz8bgj957f1.jpeg  \n",
       "1  https://www.reddit.com/r/fearofflying/comments...  \n",
       "2  https://www.reddit.com/r/AlaskaAirlines/commen...  \n",
       "3  https://www.reddit.com/r/delta/comments/1lc7t5...  \n",
       "4                    https://v.redd.it/ns92sr8zz47f1  "
      ]
     },
     "execution_count": 9,
     "metadata": {},
     "output_type": "execute_result"
    }
   ],
   "source": [
    "dupes.head()"
   ]
  },
  {
   "cell_type": "code",
   "execution_count": null,
   "metadata": {},
   "outputs": [],
   "source": []
  }
 ],
 "metadata": {
  "kernelspec": {
   "display_name": "travelapi",
   "language": "python",
   "name": "python3"
  },
  "language_info": {
   "codemirror_mode": {
    "name": "ipython",
    "version": 3
   },
   "file_extension": ".py",
   "mimetype": "text/x-python",
   "name": "python",
   "nbconvert_exporter": "python",
   "pygments_lexer": "ipython3",
   "version": "3.10.0"
  }
 },
 "nbformat": 4,
 "nbformat_minor": 2
}
